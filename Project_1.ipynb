{
 "cells": [
  {
   "cell_type": "markdown",
   "metadata": {
    "id": "08owH-AVyZCX"
   },
   "source": [
    "# APS1070\n",
    "#### Project 1 --- Basic Principles and Models \n",
    "**Deadline: Oct 6th, 9PM - 10 percent**"
   ]
  },
  {
   "cell_type": "markdown",
   "metadata": {
    "id": "fRZ3wBoe398S"
   },
   "source": [
    "**Academic Integrity**\n",
    "\n",
    "This project is individual - it is to be completed on your own. If you have questions, please post your query in the APS1070 Piazza Q&A forums (the answer might be useful to others!).\n",
    "\n",
    "Do not share your code with others, or post your work online. Do not submit code that you have not written yourself. Students suspected of plagiarism on a project, midterm or exam will be referred to the department for formal discipline for breaches of the Student Code of Conduct."
   ]
  },
  {
   "cell_type": "markdown",
   "metadata": {
    "id": "qonbueFGyemb"
   },
   "source": [
    "Name: Ziruo Song  \n",
    "\n",
    "Student ID: 1005637198"
   ]
  },
  {
   "cell_type": "markdown",
   "metadata": {
    "id": "Dykrw3cyy7PF"
   },
   "source": [
    "##**Marking Scheme:**\n",
    "\n",
    "This project is worth **10 percent** of your final grade.\n",
    "\n",
    "Draw a plot or table where necessary to summarize your findings. \n",
    "\n",
    "**Practice Vectorized coding**: If you need to write a loop in your solution, think about how you can implement the same functionality with vectorized operations. Try to avoid loops as much as possible (in some cases, loops are inevitable).\n",
    "\n",
    "\n"
   ]
  },
  {
   "cell_type": "markdown",
   "metadata": {
    "id": "dBW_phAt5wYk"
   },
   "source": [
    "### How to submit **(HTML + IPYNB)**\n",
    "\n",
    "1. Download your notebook: `File -> Download .ipynb`\n",
    "\n",
    "2. Click on the Files icon on the far left menu of Colab\n",
    "\n",
    "3. Select & upload your `.ipynb` file you just downloaded, and then obtain its path (right click) (you might need to hit the Refresh button before your file shows up)\n",
    "\n",
    "\n",
    "4. execute the following in a Colab cell:\n",
    "```\n",
    "%%shell\n",
    "jupyter nbconvert --to html /PATH/TO/YOUR/NOTEBOOKFILE.ipynb\n",
    "```\n",
    "\n",
    "5. An HTML version of your notebook will appear in the files, so you can download it.\n",
    "\n",
    "6. Submit **both** <font color='red'>`HTML` and `IPYNB`</font>  files on Quercus for grading.\n",
    "\n",
    "\n",
    "\n",
    "Ref: https://stackoverflow.com/a/64487858 \n",
    "\n"
   ]
  },
  {
   "cell_type": "markdown",
   "metadata": {
    "id": "yYlo7mIXyZFe"
   },
   "source": [
    "# Project 1 [10 Marks] \n",
    "Let's apply the tools we have learned in the tutorial to a new dataset.\n",
    "\n",
    "We're going to work with a breast cancer dataset. Download it using the cell below:"
   ]
  },
  {
   "cell_type": "code",
   "execution_count": 1,
   "metadata": {
    "id": "YFo8KVcryZFe"
   },
   "outputs": [],
   "source": [
    "from sklearn.datasets import load_breast_cancer\n",
    "dataset = load_breast_cancer()"
   ]
  },
  {
   "cell_type": "markdown",
   "metadata": {
    "id": "gOGmwyQNyZFh"
   },
   "source": [
    "## Part 1: Getting started [2 Marks]\n",
    "First off, take a look at the `data`, `target` and `feature_names` entries in the `dataset` dictionary. They contain the information we'll be working with here. Then, create a Pandas DataFrame called `df` containing the data and the targets, with the feature names as column headings. If you need help, see [here](https://pandas.pydata.org/pandas-docs/stable/reference/api/pandas.DataFrame.html) for more details on how to achieve this. **[0.4]**\n",
    "* How many features do we have in this dataset?  30\n",
    "* How many observations have a 'mean area' of greater than 700? 171\n",
    "* How many participants tested `Malignant`?   212\n",
    "* How many participants tested `Benign`?   357 "
   ]
  },
  {
   "cell_type": "code",
   "execution_count": 2,
   "metadata": {},
   "outputs": [
    {
     "data": {
      "text/plain": [
       "{'data': array([[1.799e+01, 1.038e+01, 1.228e+02, ..., 2.654e-01, 4.601e-01,\n",
       "         1.189e-01],\n",
       "        [2.057e+01, 1.777e+01, 1.329e+02, ..., 1.860e-01, 2.750e-01,\n",
       "         8.902e-02],\n",
       "        [1.969e+01, 2.125e+01, 1.300e+02, ..., 2.430e-01, 3.613e-01,\n",
       "         8.758e-02],\n",
       "        ...,\n",
       "        [1.660e+01, 2.808e+01, 1.083e+02, ..., 1.418e-01, 2.218e-01,\n",
       "         7.820e-02],\n",
       "        [2.060e+01, 2.933e+01, 1.401e+02, ..., 2.650e-01, 4.087e-01,\n",
       "         1.240e-01],\n",
       "        [7.760e+00, 2.454e+01, 4.792e+01, ..., 0.000e+00, 2.871e-01,\n",
       "         7.039e-02]]),\n",
       " 'target': array([0, 0, 0, 0, 0, 0, 0, 0, 0, 0, 0, 0, 0, 0, 0, 0, 0, 0, 0, 1, 1, 1,\n",
       "        0, 0, 0, 0, 0, 0, 0, 0, 0, 0, 0, 0, 0, 0, 0, 1, 0, 0, 0, 0, 0, 0,\n",
       "        0, 0, 1, 0, 1, 1, 1, 1, 1, 0, 0, 1, 0, 0, 1, 1, 1, 1, 0, 1, 0, 0,\n",
       "        1, 1, 1, 1, 0, 1, 0, 0, 1, 0, 1, 0, 0, 1, 1, 1, 0, 0, 1, 0, 0, 0,\n",
       "        1, 1, 1, 0, 1, 1, 0, 0, 1, 1, 1, 0, 0, 1, 1, 1, 1, 0, 1, 1, 0, 1,\n",
       "        1, 1, 1, 1, 1, 1, 1, 0, 0, 0, 1, 0, 0, 1, 1, 1, 0, 0, 1, 0, 1, 0,\n",
       "        0, 1, 0, 0, 1, 1, 0, 1, 1, 0, 1, 1, 1, 1, 0, 1, 1, 1, 1, 1, 1, 1,\n",
       "        1, 1, 0, 1, 1, 1, 1, 0, 0, 1, 0, 1, 1, 0, 0, 1, 1, 0, 0, 1, 1, 1,\n",
       "        1, 0, 1, 1, 0, 0, 0, 1, 0, 1, 0, 1, 1, 1, 0, 1, 1, 0, 0, 1, 0, 0,\n",
       "        0, 0, 1, 0, 0, 0, 1, 0, 1, 0, 1, 1, 0, 1, 0, 0, 0, 0, 1, 1, 0, 0,\n",
       "        1, 1, 1, 0, 1, 1, 1, 1, 1, 0, 0, 1, 1, 0, 1, 1, 0, 0, 1, 0, 1, 1,\n",
       "        1, 1, 0, 1, 1, 1, 1, 1, 0, 1, 0, 0, 0, 0, 0, 0, 0, 0, 0, 0, 0, 0,\n",
       "        0, 0, 1, 1, 1, 1, 1, 1, 0, 1, 0, 1, 1, 0, 1, 1, 0, 1, 0, 0, 1, 1,\n",
       "        1, 1, 1, 1, 1, 1, 1, 1, 1, 1, 1, 0, 1, 1, 0, 1, 0, 1, 1, 1, 1, 1,\n",
       "        1, 1, 1, 1, 1, 1, 1, 1, 1, 0, 1, 1, 1, 0, 1, 0, 1, 1, 1, 1, 0, 0,\n",
       "        0, 1, 1, 1, 1, 0, 1, 0, 1, 0, 1, 1, 1, 0, 1, 1, 1, 1, 1, 1, 1, 0,\n",
       "        0, 0, 1, 1, 1, 1, 1, 1, 1, 1, 1, 1, 1, 0, 0, 1, 0, 0, 0, 1, 0, 0,\n",
       "        1, 1, 1, 1, 1, 0, 1, 1, 1, 1, 1, 0, 1, 1, 1, 0, 1, 1, 0, 0, 1, 1,\n",
       "        1, 1, 1, 1, 0, 1, 1, 1, 1, 1, 1, 1, 0, 1, 1, 1, 1, 1, 0, 1, 1, 0,\n",
       "        1, 1, 1, 1, 1, 1, 1, 1, 1, 1, 1, 1, 0, 1, 0, 0, 1, 0, 1, 1, 1, 1,\n",
       "        1, 0, 1, 1, 0, 1, 0, 1, 1, 0, 1, 0, 1, 1, 1, 1, 1, 1, 1, 1, 0, 0,\n",
       "        1, 1, 1, 1, 1, 1, 0, 1, 1, 1, 1, 1, 1, 1, 1, 1, 1, 0, 1, 1, 1, 1,\n",
       "        1, 1, 1, 0, 1, 0, 1, 1, 0, 1, 1, 1, 1, 1, 0, 0, 1, 0, 1, 0, 1, 1,\n",
       "        1, 1, 1, 0, 1, 1, 0, 1, 0, 1, 0, 0, 1, 1, 1, 0, 1, 1, 1, 1, 1, 1,\n",
       "        1, 1, 1, 1, 1, 0, 1, 0, 0, 1, 1, 1, 1, 1, 1, 1, 1, 1, 1, 1, 1, 1,\n",
       "        1, 1, 1, 1, 1, 1, 1, 1, 1, 1, 1, 1, 0, 0, 0, 0, 0, 0, 1]),\n",
       " 'frame': None,\n",
       " 'target_names': array(['malignant', 'benign'], dtype='<U9'),\n",
       " 'DESCR': '.. _breast_cancer_dataset:\\n\\nBreast cancer wisconsin (diagnostic) dataset\\n--------------------------------------------\\n\\n**Data Set Characteristics:**\\n\\n    :Number of Instances: 569\\n\\n    :Number of Attributes: 30 numeric, predictive attributes and the class\\n\\n    :Attribute Information:\\n        - radius (mean of distances from center to points on the perimeter)\\n        - texture (standard deviation of gray-scale values)\\n        - perimeter\\n        - area\\n        - smoothness (local variation in radius lengths)\\n        - compactness (perimeter^2 / area - 1.0)\\n        - concavity (severity of concave portions of the contour)\\n        - concave points (number of concave portions of the contour)\\n        - symmetry\\n        - fractal dimension (\"coastline approximation\" - 1)\\n\\n        The mean, standard error, and \"worst\" or largest (mean of the three\\n        worst/largest values) of these features were computed for each image,\\n        resulting in 30 features.  For instance, field 0 is Mean Radius, field\\n        10 is Radius SE, field 20 is Worst Radius.\\n\\n        - class:\\n                - WDBC-Malignant\\n                - WDBC-Benign\\n\\n    :Summary Statistics:\\n\\n    ===================================== ====== ======\\n                                           Min    Max\\n    ===================================== ====== ======\\n    radius (mean):                        6.981  28.11\\n    texture (mean):                       9.71   39.28\\n    perimeter (mean):                     43.79  188.5\\n    area (mean):                          143.5  2501.0\\n    smoothness (mean):                    0.053  0.163\\n    compactness (mean):                   0.019  0.345\\n    concavity (mean):                     0.0    0.427\\n    concave points (mean):                0.0    0.201\\n    symmetry (mean):                      0.106  0.304\\n    fractal dimension (mean):             0.05   0.097\\n    radius (standard error):              0.112  2.873\\n    texture (standard error):             0.36   4.885\\n    perimeter (standard error):           0.757  21.98\\n    area (standard error):                6.802  542.2\\n    smoothness (standard error):          0.002  0.031\\n    compactness (standard error):         0.002  0.135\\n    concavity (standard error):           0.0    0.396\\n    concave points (standard error):      0.0    0.053\\n    symmetry (standard error):            0.008  0.079\\n    fractal dimension (standard error):   0.001  0.03\\n    radius (worst):                       7.93   36.04\\n    texture (worst):                      12.02  49.54\\n    perimeter (worst):                    50.41  251.2\\n    area (worst):                         185.2  4254.0\\n    smoothness (worst):                   0.071  0.223\\n    compactness (worst):                  0.027  1.058\\n    concavity (worst):                    0.0    1.252\\n    concave points (worst):               0.0    0.291\\n    symmetry (worst):                     0.156  0.664\\n    fractal dimension (worst):            0.055  0.208\\n    ===================================== ====== ======\\n\\n    :Missing Attribute Values: None\\n\\n    :Class Distribution: 212 - Malignant, 357 - Benign\\n\\n    :Creator:  Dr. William H. Wolberg, W. Nick Street, Olvi L. Mangasarian\\n\\n    :Donor: Nick Street\\n\\n    :Date: November, 1995\\n\\nThis is a copy of UCI ML Breast Cancer Wisconsin (Diagnostic) datasets.\\nhttps://goo.gl/U2Uwz2\\n\\nFeatures are computed from a digitized image of a fine needle\\naspirate (FNA) of a breast mass.  They describe\\ncharacteristics of the cell nuclei present in the image.\\n\\nSeparating plane described above was obtained using\\nMultisurface Method-Tree (MSM-T) [K. P. Bennett, \"Decision Tree\\nConstruction Via Linear Programming.\" Proceedings of the 4th\\nMidwest Artificial Intelligence and Cognitive Science Society,\\npp. 97-101, 1992], a classification method which uses linear\\nprogramming to construct a decision tree.  Relevant features\\nwere selected using an exhaustive search in the space of 1-4\\nfeatures and 1-3 separating planes.\\n\\nThe actual linear program used to obtain the separating plane\\nin the 3-dimensional space is that described in:\\n[K. P. Bennett and O. L. Mangasarian: \"Robust Linear\\nProgramming Discrimination of Two Linearly Inseparable Sets\",\\nOptimization Methods and Software 1, 1992, 23-34].\\n\\nThis database is also available through the UW CS ftp server:\\n\\nftp ftp.cs.wisc.edu\\ncd math-prog/cpo-dataset/machine-learn/WDBC/\\n\\n.. topic:: References\\n\\n   - W.N. Street, W.H. Wolberg and O.L. Mangasarian. Nuclear feature extraction \\n     for breast tumor diagnosis. IS&T/SPIE 1993 International Symposium on \\n     Electronic Imaging: Science and Technology, volume 1905, pages 861-870,\\n     San Jose, CA, 1993.\\n   - O.L. Mangasarian, W.N. Street and W.H. Wolberg. Breast cancer diagnosis and \\n     prognosis via linear programming. Operations Research, 43(4), pages 570-577, \\n     July-August 1995.\\n   - W.H. Wolberg, W.N. Street, and O.L. Mangasarian. Machine learning techniques\\n     to diagnose breast cancer from fine-needle aspirates. Cancer Letters 77 (1994) \\n     163-171.',\n",
       " 'feature_names': array(['mean radius', 'mean texture', 'mean perimeter', 'mean area',\n",
       "        'mean smoothness', 'mean compactness', 'mean concavity',\n",
       "        'mean concave points', 'mean symmetry', 'mean fractal dimension',\n",
       "        'radius error', 'texture error', 'perimeter error', 'area error',\n",
       "        'smoothness error', 'compactness error', 'concavity error',\n",
       "        'concave points error', 'symmetry error',\n",
       "        'fractal dimension error', 'worst radius', 'worst texture',\n",
       "        'worst perimeter', 'worst area', 'worst smoothness',\n",
       "        'worst compactness', 'worst concavity', 'worst concave points',\n",
       "        'worst symmetry', 'worst fractal dimension'], dtype='<U23'),\n",
       " 'filename': 'breast_cancer.csv',\n",
       " 'data_module': 'sklearn.datasets.data'}"
      ]
     },
     "execution_count": 2,
     "metadata": {},
     "output_type": "execute_result"
    }
   ],
   "source": [
    "dataset"
   ]
  },
  {
   "cell_type": "code",
   "execution_count": 3,
   "metadata": {},
   "outputs": [
    {
     "data": {
      "text/html": [
       "<div>\n",
       "<style scoped>\n",
       "    .dataframe tbody tr th:only-of-type {\n",
       "        vertical-align: middle;\n",
       "    }\n",
       "\n",
       "    .dataframe tbody tr th {\n",
       "        vertical-align: top;\n",
       "    }\n",
       "\n",
       "    .dataframe thead th {\n",
       "        text-align: right;\n",
       "    }\n",
       "</style>\n",
       "<table border=\"1\" class=\"dataframe\">\n",
       "  <thead>\n",
       "    <tr style=\"text-align: right;\">\n",
       "      <th></th>\n",
       "      <th>mean radius</th>\n",
       "      <th>mean texture</th>\n",
       "      <th>mean perimeter</th>\n",
       "      <th>mean area</th>\n",
       "      <th>mean smoothness</th>\n",
       "      <th>mean compactness</th>\n",
       "      <th>mean concavity</th>\n",
       "      <th>mean concave points</th>\n",
       "      <th>mean symmetry</th>\n",
       "      <th>mean fractal dimension</th>\n",
       "      <th>...</th>\n",
       "      <th>worst texture</th>\n",
       "      <th>worst perimeter</th>\n",
       "      <th>worst area</th>\n",
       "      <th>worst smoothness</th>\n",
       "      <th>worst compactness</th>\n",
       "      <th>worst concavity</th>\n",
       "      <th>worst concave points</th>\n",
       "      <th>worst symmetry</th>\n",
       "      <th>worst fractal dimension</th>\n",
       "      <th>target</th>\n",
       "    </tr>\n",
       "  </thead>\n",
       "  <tbody>\n",
       "    <tr>\n",
       "      <th>0</th>\n",
       "      <td>17.99</td>\n",
       "      <td>10.38</td>\n",
       "      <td>122.80</td>\n",
       "      <td>1001.0</td>\n",
       "      <td>0.11840</td>\n",
       "      <td>0.27760</td>\n",
       "      <td>0.30010</td>\n",
       "      <td>0.14710</td>\n",
       "      <td>0.2419</td>\n",
       "      <td>0.07871</td>\n",
       "      <td>...</td>\n",
       "      <td>17.33</td>\n",
       "      <td>184.60</td>\n",
       "      <td>2019.0</td>\n",
       "      <td>0.16220</td>\n",
       "      <td>0.66560</td>\n",
       "      <td>0.7119</td>\n",
       "      <td>0.2654</td>\n",
       "      <td>0.4601</td>\n",
       "      <td>0.11890</td>\n",
       "      <td>0</td>\n",
       "    </tr>\n",
       "    <tr>\n",
       "      <th>1</th>\n",
       "      <td>20.57</td>\n",
       "      <td>17.77</td>\n",
       "      <td>132.90</td>\n",
       "      <td>1326.0</td>\n",
       "      <td>0.08474</td>\n",
       "      <td>0.07864</td>\n",
       "      <td>0.08690</td>\n",
       "      <td>0.07017</td>\n",
       "      <td>0.1812</td>\n",
       "      <td>0.05667</td>\n",
       "      <td>...</td>\n",
       "      <td>23.41</td>\n",
       "      <td>158.80</td>\n",
       "      <td>1956.0</td>\n",
       "      <td>0.12380</td>\n",
       "      <td>0.18660</td>\n",
       "      <td>0.2416</td>\n",
       "      <td>0.1860</td>\n",
       "      <td>0.2750</td>\n",
       "      <td>0.08902</td>\n",
       "      <td>0</td>\n",
       "    </tr>\n",
       "    <tr>\n",
       "      <th>2</th>\n",
       "      <td>19.69</td>\n",
       "      <td>21.25</td>\n",
       "      <td>130.00</td>\n",
       "      <td>1203.0</td>\n",
       "      <td>0.10960</td>\n",
       "      <td>0.15990</td>\n",
       "      <td>0.19740</td>\n",
       "      <td>0.12790</td>\n",
       "      <td>0.2069</td>\n",
       "      <td>0.05999</td>\n",
       "      <td>...</td>\n",
       "      <td>25.53</td>\n",
       "      <td>152.50</td>\n",
       "      <td>1709.0</td>\n",
       "      <td>0.14440</td>\n",
       "      <td>0.42450</td>\n",
       "      <td>0.4504</td>\n",
       "      <td>0.2430</td>\n",
       "      <td>0.3613</td>\n",
       "      <td>0.08758</td>\n",
       "      <td>0</td>\n",
       "    </tr>\n",
       "    <tr>\n",
       "      <th>3</th>\n",
       "      <td>11.42</td>\n",
       "      <td>20.38</td>\n",
       "      <td>77.58</td>\n",
       "      <td>386.1</td>\n",
       "      <td>0.14250</td>\n",
       "      <td>0.28390</td>\n",
       "      <td>0.24140</td>\n",
       "      <td>0.10520</td>\n",
       "      <td>0.2597</td>\n",
       "      <td>0.09744</td>\n",
       "      <td>...</td>\n",
       "      <td>26.50</td>\n",
       "      <td>98.87</td>\n",
       "      <td>567.7</td>\n",
       "      <td>0.20980</td>\n",
       "      <td>0.86630</td>\n",
       "      <td>0.6869</td>\n",
       "      <td>0.2575</td>\n",
       "      <td>0.6638</td>\n",
       "      <td>0.17300</td>\n",
       "      <td>0</td>\n",
       "    </tr>\n",
       "    <tr>\n",
       "      <th>4</th>\n",
       "      <td>20.29</td>\n",
       "      <td>14.34</td>\n",
       "      <td>135.10</td>\n",
       "      <td>1297.0</td>\n",
       "      <td>0.10030</td>\n",
       "      <td>0.13280</td>\n",
       "      <td>0.19800</td>\n",
       "      <td>0.10430</td>\n",
       "      <td>0.1809</td>\n",
       "      <td>0.05883</td>\n",
       "      <td>...</td>\n",
       "      <td>16.67</td>\n",
       "      <td>152.20</td>\n",
       "      <td>1575.0</td>\n",
       "      <td>0.13740</td>\n",
       "      <td>0.20500</td>\n",
       "      <td>0.4000</td>\n",
       "      <td>0.1625</td>\n",
       "      <td>0.2364</td>\n",
       "      <td>0.07678</td>\n",
       "      <td>0</td>\n",
       "    </tr>\n",
       "    <tr>\n",
       "      <th>...</th>\n",
       "      <td>...</td>\n",
       "      <td>...</td>\n",
       "      <td>...</td>\n",
       "      <td>...</td>\n",
       "      <td>...</td>\n",
       "      <td>...</td>\n",
       "      <td>...</td>\n",
       "      <td>...</td>\n",
       "      <td>...</td>\n",
       "      <td>...</td>\n",
       "      <td>...</td>\n",
       "      <td>...</td>\n",
       "      <td>...</td>\n",
       "      <td>...</td>\n",
       "      <td>...</td>\n",
       "      <td>...</td>\n",
       "      <td>...</td>\n",
       "      <td>...</td>\n",
       "      <td>...</td>\n",
       "      <td>...</td>\n",
       "      <td>...</td>\n",
       "    </tr>\n",
       "    <tr>\n",
       "      <th>564</th>\n",
       "      <td>21.56</td>\n",
       "      <td>22.39</td>\n",
       "      <td>142.00</td>\n",
       "      <td>1479.0</td>\n",
       "      <td>0.11100</td>\n",
       "      <td>0.11590</td>\n",
       "      <td>0.24390</td>\n",
       "      <td>0.13890</td>\n",
       "      <td>0.1726</td>\n",
       "      <td>0.05623</td>\n",
       "      <td>...</td>\n",
       "      <td>26.40</td>\n",
       "      <td>166.10</td>\n",
       "      <td>2027.0</td>\n",
       "      <td>0.14100</td>\n",
       "      <td>0.21130</td>\n",
       "      <td>0.4107</td>\n",
       "      <td>0.2216</td>\n",
       "      <td>0.2060</td>\n",
       "      <td>0.07115</td>\n",
       "      <td>0</td>\n",
       "    </tr>\n",
       "    <tr>\n",
       "      <th>565</th>\n",
       "      <td>20.13</td>\n",
       "      <td>28.25</td>\n",
       "      <td>131.20</td>\n",
       "      <td>1261.0</td>\n",
       "      <td>0.09780</td>\n",
       "      <td>0.10340</td>\n",
       "      <td>0.14400</td>\n",
       "      <td>0.09791</td>\n",
       "      <td>0.1752</td>\n",
       "      <td>0.05533</td>\n",
       "      <td>...</td>\n",
       "      <td>38.25</td>\n",
       "      <td>155.00</td>\n",
       "      <td>1731.0</td>\n",
       "      <td>0.11660</td>\n",
       "      <td>0.19220</td>\n",
       "      <td>0.3215</td>\n",
       "      <td>0.1628</td>\n",
       "      <td>0.2572</td>\n",
       "      <td>0.06637</td>\n",
       "      <td>0</td>\n",
       "    </tr>\n",
       "    <tr>\n",
       "      <th>566</th>\n",
       "      <td>16.60</td>\n",
       "      <td>28.08</td>\n",
       "      <td>108.30</td>\n",
       "      <td>858.1</td>\n",
       "      <td>0.08455</td>\n",
       "      <td>0.10230</td>\n",
       "      <td>0.09251</td>\n",
       "      <td>0.05302</td>\n",
       "      <td>0.1590</td>\n",
       "      <td>0.05648</td>\n",
       "      <td>...</td>\n",
       "      <td>34.12</td>\n",
       "      <td>126.70</td>\n",
       "      <td>1124.0</td>\n",
       "      <td>0.11390</td>\n",
       "      <td>0.30940</td>\n",
       "      <td>0.3403</td>\n",
       "      <td>0.1418</td>\n",
       "      <td>0.2218</td>\n",
       "      <td>0.07820</td>\n",
       "      <td>0</td>\n",
       "    </tr>\n",
       "    <tr>\n",
       "      <th>567</th>\n",
       "      <td>20.60</td>\n",
       "      <td>29.33</td>\n",
       "      <td>140.10</td>\n",
       "      <td>1265.0</td>\n",
       "      <td>0.11780</td>\n",
       "      <td>0.27700</td>\n",
       "      <td>0.35140</td>\n",
       "      <td>0.15200</td>\n",
       "      <td>0.2397</td>\n",
       "      <td>0.07016</td>\n",
       "      <td>...</td>\n",
       "      <td>39.42</td>\n",
       "      <td>184.60</td>\n",
       "      <td>1821.0</td>\n",
       "      <td>0.16500</td>\n",
       "      <td>0.86810</td>\n",
       "      <td>0.9387</td>\n",
       "      <td>0.2650</td>\n",
       "      <td>0.4087</td>\n",
       "      <td>0.12400</td>\n",
       "      <td>0</td>\n",
       "    </tr>\n",
       "    <tr>\n",
       "      <th>568</th>\n",
       "      <td>7.76</td>\n",
       "      <td>24.54</td>\n",
       "      <td>47.92</td>\n",
       "      <td>181.0</td>\n",
       "      <td>0.05263</td>\n",
       "      <td>0.04362</td>\n",
       "      <td>0.00000</td>\n",
       "      <td>0.00000</td>\n",
       "      <td>0.1587</td>\n",
       "      <td>0.05884</td>\n",
       "      <td>...</td>\n",
       "      <td>30.37</td>\n",
       "      <td>59.16</td>\n",
       "      <td>268.6</td>\n",
       "      <td>0.08996</td>\n",
       "      <td>0.06444</td>\n",
       "      <td>0.0000</td>\n",
       "      <td>0.0000</td>\n",
       "      <td>0.2871</td>\n",
       "      <td>0.07039</td>\n",
       "      <td>1</td>\n",
       "    </tr>\n",
       "  </tbody>\n",
       "</table>\n",
       "<p>569 rows × 31 columns</p>\n",
       "</div>"
      ],
      "text/plain": [
       "     mean radius  mean texture  mean perimeter  mean area  mean smoothness  \\\n",
       "0          17.99         10.38          122.80     1001.0          0.11840   \n",
       "1          20.57         17.77          132.90     1326.0          0.08474   \n",
       "2          19.69         21.25          130.00     1203.0          0.10960   \n",
       "3          11.42         20.38           77.58      386.1          0.14250   \n",
       "4          20.29         14.34          135.10     1297.0          0.10030   \n",
       "..           ...           ...             ...        ...              ...   \n",
       "564        21.56         22.39          142.00     1479.0          0.11100   \n",
       "565        20.13         28.25          131.20     1261.0          0.09780   \n",
       "566        16.60         28.08          108.30      858.1          0.08455   \n",
       "567        20.60         29.33          140.10     1265.0          0.11780   \n",
       "568         7.76         24.54           47.92      181.0          0.05263   \n",
       "\n",
       "     mean compactness  mean concavity  mean concave points  mean symmetry  \\\n",
       "0             0.27760         0.30010              0.14710         0.2419   \n",
       "1             0.07864         0.08690              0.07017         0.1812   \n",
       "2             0.15990         0.19740              0.12790         0.2069   \n",
       "3             0.28390         0.24140              0.10520         0.2597   \n",
       "4             0.13280         0.19800              0.10430         0.1809   \n",
       "..                ...             ...                  ...            ...   \n",
       "564           0.11590         0.24390              0.13890         0.1726   \n",
       "565           0.10340         0.14400              0.09791         0.1752   \n",
       "566           0.10230         0.09251              0.05302         0.1590   \n",
       "567           0.27700         0.35140              0.15200         0.2397   \n",
       "568           0.04362         0.00000              0.00000         0.1587   \n",
       "\n",
       "     mean fractal dimension  ...  worst texture  worst perimeter  worst area  \\\n",
       "0                   0.07871  ...          17.33           184.60      2019.0   \n",
       "1                   0.05667  ...          23.41           158.80      1956.0   \n",
       "2                   0.05999  ...          25.53           152.50      1709.0   \n",
       "3                   0.09744  ...          26.50            98.87       567.7   \n",
       "4                   0.05883  ...          16.67           152.20      1575.0   \n",
       "..                      ...  ...            ...              ...         ...   \n",
       "564                 0.05623  ...          26.40           166.10      2027.0   \n",
       "565                 0.05533  ...          38.25           155.00      1731.0   \n",
       "566                 0.05648  ...          34.12           126.70      1124.0   \n",
       "567                 0.07016  ...          39.42           184.60      1821.0   \n",
       "568                 0.05884  ...          30.37            59.16       268.6   \n",
       "\n",
       "     worst smoothness  worst compactness  worst concavity  \\\n",
       "0             0.16220            0.66560           0.7119   \n",
       "1             0.12380            0.18660           0.2416   \n",
       "2             0.14440            0.42450           0.4504   \n",
       "3             0.20980            0.86630           0.6869   \n",
       "4             0.13740            0.20500           0.4000   \n",
       "..                ...                ...              ...   \n",
       "564           0.14100            0.21130           0.4107   \n",
       "565           0.11660            0.19220           0.3215   \n",
       "566           0.11390            0.30940           0.3403   \n",
       "567           0.16500            0.86810           0.9387   \n",
       "568           0.08996            0.06444           0.0000   \n",
       "\n",
       "     worst concave points  worst symmetry  worst fractal dimension  target  \n",
       "0                  0.2654          0.4601                  0.11890       0  \n",
       "1                  0.1860          0.2750                  0.08902       0  \n",
       "2                  0.2430          0.3613                  0.08758       0  \n",
       "3                  0.2575          0.6638                  0.17300       0  \n",
       "4                  0.1625          0.2364                  0.07678       0  \n",
       "..                    ...             ...                      ...     ...  \n",
       "564                0.2216          0.2060                  0.07115       0  \n",
       "565                0.1628          0.2572                  0.06637       0  \n",
       "566                0.1418          0.2218                  0.07820       0  \n",
       "567                0.2650          0.4087                  0.12400       0  \n",
       "568                0.0000          0.2871                  0.07039       1  \n",
       "\n",
       "[569 rows x 31 columns]"
      ]
     },
     "execution_count": 3,
     "metadata": {},
     "output_type": "execute_result"
    }
   ],
   "source": [
    "import pandas as pd\n",
    "df = pd.DataFrame(dataset.data, columns=dataset.feature_names)\n",
    "df['target']=dataset.target\n",
    "df"
   ]
  },
  {
   "cell_type": "code",
   "execution_count": 4,
   "metadata": {},
   "outputs": [
    {
     "name": "stdout",
     "output_type": "stream",
     "text": [
      "Number of features:  30\n",
      "Number of observations whose 'mean area' is greater than 700:  171\n",
      "Number of participants tested `Malignant`: 212\n",
      "Number of participants tested `Benign`: 357\n"
     ]
    }
   ],
   "source": [
    "print(\"Number of features: \", len(dataset.feature_names))\n",
    "print(\"Number of observations whose 'mean area' is greater than 700: \", sum(df['mean area']>700) )\n",
    "print(\"Number of participants tested `Malignant`:\", sum(df.target== 0))\n",
    "print(\"Number of participants tested `Benign`:\", sum(df.target== 1))"
   ]
  },
  {
   "cell_type": "markdown",
   "metadata": {
    "id": "YyqBEQXGq-B0"
   },
   "source": [
    "### Splitting the data\n",
    "It is best practice to have a training set (from which there is a rotating validation subset) and a test set. Our aim here is to (eventually) obtain the best accuracy we can on the test set (we'll do all our tuning on the training/validation sets, however.) \n",
    "\n",
    "**Split the dataset** into a train and a test set **\"70:30\"**, use **``random_state=0``**. The test set is set aside (untouched) for final evaluation, once hyperparameter optimization is complete. **[0.5]**\n",
    "\n",
    "**Only Split the dataset once within you notebook.** You should not use the `train_test_split` function more than once, regardless of the random state. Keep this in mind for your future projects as well."
   ]
  },
  {
   "cell_type": "code",
   "execution_count": 5,
   "metadata": {
    "id": "A5equ6ied8eg"
   },
   "outputs": [],
   "source": [
    "from sklearn.model_selection import train_test_split\n",
    "X=dataset.data\n",
    "y=dataset.target\n",
    "X_train, X_test, y_train, y_test = train_test_split(X, y, test_size=0.3, random_state=0)"
   ]
  },
  {
   "cell_type": "markdown",
   "metadata": {
    "id": "U_jNtkfce9Eg"
   },
   "source": [
    "### Effect of Standardization (Visual)\n",
    "Use `seaborn.lmplot` ([help here](https://seaborn.pydata.org/generated/seaborn.lmplot.html)) to visualize a few features of the training set. Draw a plot where the x-axis is ``worst smoothness``, the y-axis is ``worst fractal dimension,`` and the color of each datapoint indicates its class.  **[0.5]**\n",
    "\n",
    "Standardizing the data is often critical in machine learning. Show a plot as above, but with two features with very different scales. Standardize the data and plot those features again. What's different? **why do they look similar?** Based on your observation, what is the advantage of standardization? **[0.6]**\n",
    "\n",
    "\n"
   ]
  },
  {
   "cell_type": "code",
   "execution_count": 6,
   "metadata": {},
   "outputs": [
    {
     "data": {
      "text/html": [
       "<div>\n",
       "<style scoped>\n",
       "    .dataframe tbody tr th:only-of-type {\n",
       "        vertical-align: middle;\n",
       "    }\n",
       "\n",
       "    .dataframe tbody tr th {\n",
       "        vertical-align: top;\n",
       "    }\n",
       "\n",
       "    .dataframe thead th {\n",
       "        text-align: right;\n",
       "    }\n",
       "</style>\n",
       "<table border=\"1\" class=\"dataframe\">\n",
       "  <thead>\n",
       "    <tr style=\"text-align: right;\">\n",
       "      <th></th>\n",
       "      <th>mean radius</th>\n",
       "      <th>mean texture</th>\n",
       "      <th>mean perimeter</th>\n",
       "      <th>mean area</th>\n",
       "      <th>mean smoothness</th>\n",
       "      <th>mean compactness</th>\n",
       "      <th>mean concavity</th>\n",
       "      <th>mean concave points</th>\n",
       "      <th>mean symmetry</th>\n",
       "      <th>mean fractal dimension</th>\n",
       "      <th>...</th>\n",
       "      <th>worst texture</th>\n",
       "      <th>worst perimeter</th>\n",
       "      <th>worst area</th>\n",
       "      <th>worst smoothness</th>\n",
       "      <th>worst compactness</th>\n",
       "      <th>worst concavity</th>\n",
       "      <th>worst concave points</th>\n",
       "      <th>worst symmetry</th>\n",
       "      <th>worst fractal dimension</th>\n",
       "      <th>target</th>\n",
       "    </tr>\n",
       "  </thead>\n",
       "  <tbody>\n",
       "    <tr>\n",
       "      <th>0</th>\n",
       "      <td>11.490</td>\n",
       "      <td>14.59</td>\n",
       "      <td>73.99</td>\n",
       "      <td>404.9</td>\n",
       "      <td>0.10460</td>\n",
       "      <td>0.08228</td>\n",
       "      <td>0.05308</td>\n",
       "      <td>0.01969</td>\n",
       "      <td>0.1779</td>\n",
       "      <td>0.06574</td>\n",
       "      <td>...</td>\n",
       "      <td>21.90</td>\n",
       "      <td>82.04</td>\n",
       "      <td>467.6</td>\n",
       "      <td>0.13520</td>\n",
       "      <td>0.20100</td>\n",
       "      <td>0.25960</td>\n",
       "      <td>0.07431</td>\n",
       "      <td>0.2941</td>\n",
       "      <td>0.09180</td>\n",
       "      <td>1</td>\n",
       "    </tr>\n",
       "    <tr>\n",
       "      <th>1</th>\n",
       "      <td>10.490</td>\n",
       "      <td>18.61</td>\n",
       "      <td>66.86</td>\n",
       "      <td>334.3</td>\n",
       "      <td>0.10680</td>\n",
       "      <td>0.06678</td>\n",
       "      <td>0.02297</td>\n",
       "      <td>0.01780</td>\n",
       "      <td>0.1482</td>\n",
       "      <td>0.06600</td>\n",
       "      <td>...</td>\n",
       "      <td>24.54</td>\n",
       "      <td>70.76</td>\n",
       "      <td>375.4</td>\n",
       "      <td>0.14130</td>\n",
       "      <td>0.10440</td>\n",
       "      <td>0.08423</td>\n",
       "      <td>0.06528</td>\n",
       "      <td>0.2213</td>\n",
       "      <td>0.07842</td>\n",
       "      <td>1</td>\n",
       "    </tr>\n",
       "    <tr>\n",
       "      <th>2</th>\n",
       "      <td>12.250</td>\n",
       "      <td>17.94</td>\n",
       "      <td>78.27</td>\n",
       "      <td>460.3</td>\n",
       "      <td>0.08654</td>\n",
       "      <td>0.06679</td>\n",
       "      <td>0.03885</td>\n",
       "      <td>0.02331</td>\n",
       "      <td>0.1970</td>\n",
       "      <td>0.06228</td>\n",
       "      <td>...</td>\n",
       "      <td>25.22</td>\n",
       "      <td>86.60</td>\n",
       "      <td>564.2</td>\n",
       "      <td>0.12170</td>\n",
       "      <td>0.17880</td>\n",
       "      <td>0.19430</td>\n",
       "      <td>0.08211</td>\n",
       "      <td>0.3113</td>\n",
       "      <td>0.08132</td>\n",
       "      <td>1</td>\n",
       "    </tr>\n",
       "    <tr>\n",
       "      <th>3</th>\n",
       "      <td>18.310</td>\n",
       "      <td>18.58</td>\n",
       "      <td>118.60</td>\n",
       "      <td>1041.0</td>\n",
       "      <td>0.08588</td>\n",
       "      <td>0.08468</td>\n",
       "      <td>0.08169</td>\n",
       "      <td>0.05814</td>\n",
       "      <td>0.1621</td>\n",
       "      <td>0.05425</td>\n",
       "      <td>...</td>\n",
       "      <td>26.36</td>\n",
       "      <td>139.20</td>\n",
       "      <td>1410.0</td>\n",
       "      <td>0.12340</td>\n",
       "      <td>0.24450</td>\n",
       "      <td>0.35380</td>\n",
       "      <td>0.15710</td>\n",
       "      <td>0.3206</td>\n",
       "      <td>0.06938</td>\n",
       "      <td>0</td>\n",
       "    </tr>\n",
       "    <tr>\n",
       "      <th>4</th>\n",
       "      <td>6.981</td>\n",
       "      <td>13.43</td>\n",
       "      <td>43.79</td>\n",
       "      <td>143.5</td>\n",
       "      <td>0.11700</td>\n",
       "      <td>0.07568</td>\n",
       "      <td>0.00000</td>\n",
       "      <td>0.00000</td>\n",
       "      <td>0.1930</td>\n",
       "      <td>0.07818</td>\n",
       "      <td>...</td>\n",
       "      <td>19.54</td>\n",
       "      <td>50.41</td>\n",
       "      <td>185.2</td>\n",
       "      <td>0.15840</td>\n",
       "      <td>0.12020</td>\n",
       "      <td>0.00000</td>\n",
       "      <td>0.00000</td>\n",
       "      <td>0.2932</td>\n",
       "      <td>0.09382</td>\n",
       "      <td>1</td>\n",
       "    </tr>\n",
       "    <tr>\n",
       "      <th>...</th>\n",
       "      <td>...</td>\n",
       "      <td>...</td>\n",
       "      <td>...</td>\n",
       "      <td>...</td>\n",
       "      <td>...</td>\n",
       "      <td>...</td>\n",
       "      <td>...</td>\n",
       "      <td>...</td>\n",
       "      <td>...</td>\n",
       "      <td>...</td>\n",
       "      <td>...</td>\n",
       "      <td>...</td>\n",
       "      <td>...</td>\n",
       "      <td>...</td>\n",
       "      <td>...</td>\n",
       "      <td>...</td>\n",
       "      <td>...</td>\n",
       "      <td>...</td>\n",
       "      <td>...</td>\n",
       "      <td>...</td>\n",
       "      <td>...</td>\n",
       "    </tr>\n",
       "    <tr>\n",
       "      <th>393</th>\n",
       "      <td>18.810</td>\n",
       "      <td>19.98</td>\n",
       "      <td>120.90</td>\n",
       "      <td>1102.0</td>\n",
       "      <td>0.08923</td>\n",
       "      <td>0.05884</td>\n",
       "      <td>0.08020</td>\n",
       "      <td>0.05843</td>\n",
       "      <td>0.1550</td>\n",
       "      <td>0.04996</td>\n",
       "      <td>...</td>\n",
       "      <td>24.30</td>\n",
       "      <td>129.00</td>\n",
       "      <td>1236.0</td>\n",
       "      <td>0.12430</td>\n",
       "      <td>0.11600</td>\n",
       "      <td>0.22100</td>\n",
       "      <td>0.12940</td>\n",
       "      <td>0.2567</td>\n",
       "      <td>0.05737</td>\n",
       "      <td>0</td>\n",
       "    </tr>\n",
       "    <tr>\n",
       "      <th>394</th>\n",
       "      <td>12.460</td>\n",
       "      <td>24.04</td>\n",
       "      <td>83.97</td>\n",
       "      <td>475.9</td>\n",
       "      <td>0.11860</td>\n",
       "      <td>0.23960</td>\n",
       "      <td>0.22730</td>\n",
       "      <td>0.08543</td>\n",
       "      <td>0.2030</td>\n",
       "      <td>0.08243</td>\n",
       "      <td>...</td>\n",
       "      <td>40.68</td>\n",
       "      <td>97.65</td>\n",
       "      <td>711.4</td>\n",
       "      <td>0.18530</td>\n",
       "      <td>1.05800</td>\n",
       "      <td>1.10500</td>\n",
       "      <td>0.22100</td>\n",
       "      <td>0.4366</td>\n",
       "      <td>0.20750</td>\n",
       "      <td>0</td>\n",
       "    </tr>\n",
       "    <tr>\n",
       "      <th>395</th>\n",
       "      <td>9.436</td>\n",
       "      <td>18.32</td>\n",
       "      <td>59.82</td>\n",
       "      <td>278.6</td>\n",
       "      <td>0.10090</td>\n",
       "      <td>0.05956</td>\n",
       "      <td>0.02710</td>\n",
       "      <td>0.01406</td>\n",
       "      <td>0.1506</td>\n",
       "      <td>0.06959</td>\n",
       "      <td>...</td>\n",
       "      <td>25.02</td>\n",
       "      <td>75.79</td>\n",
       "      <td>439.6</td>\n",
       "      <td>0.13330</td>\n",
       "      <td>0.10490</td>\n",
       "      <td>0.11440</td>\n",
       "      <td>0.05052</td>\n",
       "      <td>0.2454</td>\n",
       "      <td>0.08136</td>\n",
       "      <td>1</td>\n",
       "    </tr>\n",
       "    <tr>\n",
       "      <th>396</th>\n",
       "      <td>9.720</td>\n",
       "      <td>18.22</td>\n",
       "      <td>60.73</td>\n",
       "      <td>288.1</td>\n",
       "      <td>0.06950</td>\n",
       "      <td>0.02344</td>\n",
       "      <td>0.00000</td>\n",
       "      <td>0.00000</td>\n",
       "      <td>0.1653</td>\n",
       "      <td>0.06447</td>\n",
       "      <td>...</td>\n",
       "      <td>20.83</td>\n",
       "      <td>62.25</td>\n",
       "      <td>303.8</td>\n",
       "      <td>0.07117</td>\n",
       "      <td>0.02729</td>\n",
       "      <td>0.00000</td>\n",
       "      <td>0.00000</td>\n",
       "      <td>0.1909</td>\n",
       "      <td>0.06559</td>\n",
       "      <td>1</td>\n",
       "    </tr>\n",
       "    <tr>\n",
       "      <th>397</th>\n",
       "      <td>11.510</td>\n",
       "      <td>23.93</td>\n",
       "      <td>74.52</td>\n",
       "      <td>403.5</td>\n",
       "      <td>0.09261</td>\n",
       "      <td>0.10210</td>\n",
       "      <td>0.11120</td>\n",
       "      <td>0.04105</td>\n",
       "      <td>0.1388</td>\n",
       "      <td>0.06570</td>\n",
       "      <td>...</td>\n",
       "      <td>37.16</td>\n",
       "      <td>82.28</td>\n",
       "      <td>474.2</td>\n",
       "      <td>0.12980</td>\n",
       "      <td>0.25170</td>\n",
       "      <td>0.36300</td>\n",
       "      <td>0.09653</td>\n",
       "      <td>0.2112</td>\n",
       "      <td>0.08732</td>\n",
       "      <td>1</td>\n",
       "    </tr>\n",
       "  </tbody>\n",
       "</table>\n",
       "<p>398 rows × 31 columns</p>\n",
       "</div>"
      ],
      "text/plain": [
       "     mean radius  mean texture  mean perimeter  mean area  mean smoothness  \\\n",
       "0         11.490         14.59           73.99      404.9          0.10460   \n",
       "1         10.490         18.61           66.86      334.3          0.10680   \n",
       "2         12.250         17.94           78.27      460.3          0.08654   \n",
       "3         18.310         18.58          118.60     1041.0          0.08588   \n",
       "4          6.981         13.43           43.79      143.5          0.11700   \n",
       "..           ...           ...             ...        ...              ...   \n",
       "393       18.810         19.98          120.90     1102.0          0.08923   \n",
       "394       12.460         24.04           83.97      475.9          0.11860   \n",
       "395        9.436         18.32           59.82      278.6          0.10090   \n",
       "396        9.720         18.22           60.73      288.1          0.06950   \n",
       "397       11.510         23.93           74.52      403.5          0.09261   \n",
       "\n",
       "     mean compactness  mean concavity  mean concave points  mean symmetry  \\\n",
       "0             0.08228         0.05308              0.01969         0.1779   \n",
       "1             0.06678         0.02297              0.01780         0.1482   \n",
       "2             0.06679         0.03885              0.02331         0.1970   \n",
       "3             0.08468         0.08169              0.05814         0.1621   \n",
       "4             0.07568         0.00000              0.00000         0.1930   \n",
       "..                ...             ...                  ...            ...   \n",
       "393           0.05884         0.08020              0.05843         0.1550   \n",
       "394           0.23960         0.22730              0.08543         0.2030   \n",
       "395           0.05956         0.02710              0.01406         0.1506   \n",
       "396           0.02344         0.00000              0.00000         0.1653   \n",
       "397           0.10210         0.11120              0.04105         0.1388   \n",
       "\n",
       "     mean fractal dimension  ...  worst texture  worst perimeter  worst area  \\\n",
       "0                   0.06574  ...          21.90            82.04       467.6   \n",
       "1                   0.06600  ...          24.54            70.76       375.4   \n",
       "2                   0.06228  ...          25.22            86.60       564.2   \n",
       "3                   0.05425  ...          26.36           139.20      1410.0   \n",
       "4                   0.07818  ...          19.54            50.41       185.2   \n",
       "..                      ...  ...            ...              ...         ...   \n",
       "393                 0.04996  ...          24.30           129.00      1236.0   \n",
       "394                 0.08243  ...          40.68            97.65       711.4   \n",
       "395                 0.06959  ...          25.02            75.79       439.6   \n",
       "396                 0.06447  ...          20.83            62.25       303.8   \n",
       "397                 0.06570  ...          37.16            82.28       474.2   \n",
       "\n",
       "     worst smoothness  worst compactness  worst concavity  \\\n",
       "0             0.13520            0.20100          0.25960   \n",
       "1             0.14130            0.10440          0.08423   \n",
       "2             0.12170            0.17880          0.19430   \n",
       "3             0.12340            0.24450          0.35380   \n",
       "4             0.15840            0.12020          0.00000   \n",
       "..                ...                ...              ...   \n",
       "393           0.12430            0.11600          0.22100   \n",
       "394           0.18530            1.05800          1.10500   \n",
       "395           0.13330            0.10490          0.11440   \n",
       "396           0.07117            0.02729          0.00000   \n",
       "397           0.12980            0.25170          0.36300   \n",
       "\n",
       "     worst concave points  worst symmetry  worst fractal dimension  target  \n",
       "0                 0.07431          0.2941                  0.09180       1  \n",
       "1                 0.06528          0.2213                  0.07842       1  \n",
       "2                 0.08211          0.3113                  0.08132       1  \n",
       "3                 0.15710          0.3206                  0.06938       0  \n",
       "4                 0.00000          0.2932                  0.09382       1  \n",
       "..                    ...             ...                      ...     ...  \n",
       "393               0.12940          0.2567                  0.05737       0  \n",
       "394               0.22100          0.4366                  0.20750       0  \n",
       "395               0.05052          0.2454                  0.08136       1  \n",
       "396               0.00000          0.1909                  0.06559       1  \n",
       "397               0.09653          0.2112                  0.08732       1  \n",
       "\n",
       "[398 rows x 31 columns]"
      ]
     },
     "execution_count": 6,
     "metadata": {},
     "output_type": "execute_result"
    }
   ],
   "source": [
    "# show the train data indcluding the target value\n",
    "my_train = pd.DataFrame(X_train, columns=dataset.feature_names)\n",
    "my_train['target']=y_train\n",
    "my_train"
   ]
  },
  {
   "cell_type": "code",
   "execution_count": 7,
   "metadata": {
    "id": "J684emSV8mJd"
   },
   "outputs": [
    {
     "data": {
      "image/png": "[encoded data removed]",
      "text/plain": [
       "<Figure size 405.725x360 with 1 Axes>"
      ]
     },
     "metadata": {},
     "output_type": "display_data"
    },
    {
     "data": {
      "image/png": "[encoded data removed]",
      "text/plain": [
       "<Figure size 405.725x360 with 1 Axes>"
      ]
     },
     "metadata": {},
     "output_type": "display_data"
    }
   ],
   "source": [
    "# Before standardizing the data\n",
    "import seaborn as sns; sns.set_theme(color_codes=True)\n",
    "g1 = sns.lmplot(data = my_train, x=\"worst smoothness\", y=\"worst fractal dimension\",hue=\"target\")\n",
    "\n",
    "# After standardizing\n",
    "from sklearn import preprocessing\n",
    "\n",
    "scaler = preprocessing.StandardScaler().fit(X_train)\n",
    "X_scaled = scaler.transform(X_train)\n",
    "train_scaled = pd.DataFrame(X_scaled, columns=dataset.feature_names)\n",
    "train_scaled['target']=y_train\n",
    "g2 = sns.lmplot(data = train_scaled, x=\"worst smoothness\", y=\"worst fractal dimension\",hue=\"target\")\n",
    "\n",
    "#Conclusion: The main difference are the scales of x-axis and y-axis, but the points scattered and distributions\n",
    "# are similar. Since the values were changed to the difference with the mean value of relative feature, \n",
    "# the distribution would remain the same, as only the units are changed.\n",
    "# With standardization, the comparison of the data could be easier regardless of the units, like we got some \n",
    "# small integers around 0 for both axises, instead of floats with 3 decimals in the example. Besides, the \n",
    "# relationships between each value and the mean value can be shown more clear with the sign of the scaled values."
   ]
  },
  {
   "cell_type": "markdown",
   "metadata": {
    "id": "aBmo0-W1yZFs"
   },
   "source": [
    "## Part 2: KNN Classifier without Standardization [2 Marks]\n",
    "Normally, standardizing data is a key step in preparing data for a KNN classifier. However, for educational purposes, let's first try to build a model without standardization. Let's create a KNN classifier to predict whether a patient has a malignant or benign tumor. \n",
    "\n",
    "Follow these steps: \n",
    "\n",
    "1.   Train a KNN Classifier using cross-validation on the dataset. Sweep `k` (number of neighbours) from 1 to 100, and show a plot of the mean cross-validation accuracy vs `k`. **[1]**\n",
    "2.   What is the best `k`? What is the highest cross-validation accuracy? **[0.5]**\n",
    "3. Comment on  which ranges of `k` lead to underfitted or overfitted models (hint: compare training and validation curves!). **[0.5]**\n",
    "\n",
    "\n"
   ]
  },
  {
   "cell_type": "code",
   "execution_count": 8,
   "metadata": {
    "id": "cyEV-mVSAMaV"
   },
   "outputs": [],
   "source": [
    "# get the mean cross-validation accuracy for each k value, in a list named 'accuracy'\n",
    "from sklearn.model_selection import cross_validate\n",
    "from sklearn import neighbors\n",
    "accuracy =[]\n",
    "for i in list(range(1,101)):\n",
    "    knn_i= neighbors.KNeighborsClassifier(n_neighbors=i) \n",
    "    targets = cross_validate(knn_i, X_train, y_train, cv=5, return_train_score=True)\n",
    "    ave=targets['test_score'].mean()\n",
    "    accuracy.append(ave)"
   ]
  },
  {
   "cell_type": "code",
   "execution_count": 9,
   "metadata": {},
   "outputs": [
    {
     "data": {
      "image/png": "[encoded data removed]",
      "text/plain": [
       "<Figure size 720x360 with 1 Axes>"
      ]
     },
     "metadata": {},
     "output_type": "display_data"
    }
   ],
   "source": [
    "# polt the mean cross-validation accuracy v.s. k value\n",
    "import matplotlib.pyplot as plt\n",
    "import numpy as np\n",
    "plt.figure(figsize=(10,5))\n",
    "plt.plot(np.arange(1, 101, 1, dtype=int), np.array(accuracy))\n",
    "plt.xlabel('k')\n",
    "plt.ylabel('mean cross-validation accuracy')\n",
    "plt.grid(True)"
   ]
  },
  {
   "cell_type": "code",
   "execution_count": 10,
   "metadata": {
    "scrolled": true
   },
   "outputs": [
    {
     "name": "stdout",
     "output_type": "stream",
     "text": [
      "the best k =  10 with the highest cross-validation accuracy of 93.46518987341771 %\n"
     ]
    }
   ],
   "source": [
    "# get the best k with highest accuracy value \n",
    "print(\"the best k = \",accuracy.index(max(accuracy))+1, \"with the highest cross-validation accuracy of\",\n",
    "      max(accuracy)*100,\"%\")"
   ]
  },
  {
   "cell_type": "code",
   "execution_count": 11,
   "metadata": {},
   "outputs": [
    {
     "data": {
      "image/png": "[encoded data removed]",
      "text/plain": [
       "<Figure size 720x360 with 1 Axes>"
      ]
     },
     "metadata": {},
     "output_type": "display_data"
    }
   ],
   "source": [
    "# ranges of k lead to underfitted or overfitted models\n",
    "# draw mean accuracy of test data \n",
    "accuracy_2 =[]\n",
    "for i in list(range(1,101)):\n",
    "    knn_i= neighbors.KNeighborsClassifier(n_neighbors=i) \n",
    "    targets = cross_validate(knn_i, X_train, y_train, cv=5, return_train_score=True)\n",
    "    ave2=targets['train_score'].mean()\n",
    "    accuracy_2.append(ave2)\n",
    "\n",
    "plt.figure(figsize=(10,5))\n",
    "plt.plot(np.arange(1, 101, 1, dtype=int), np.array(accuracy),label=\"mean validation accuracy\")\n",
    "plt.plot(np.arange(1, 101, 1, dtype=int), np.array(accuracy_2),label=\"mean train accuracy\")\n",
    "plt.xlabel('k')\n",
    "plt.ylabel('accuracy')\n",
    "plt.legend()\n",
    "plt.grid(True)\n"
   ]
  },
  {
   "cell_type": "markdown",
   "metadata": {},
   "source": [
    "comment:\n",
    "\n",
    "From k=1 to k=10,the mean train accuracy exceeded mean validation accuracy quite obviously, indicating thay lead to  overfitted models with good performances on the training data, but poorer accuracy for validation data. As the amount of neighbours increased above k=10, there was no obvious trend between the differences of the two lines. So we say k<10 leads to overfitted models.\n",
    "\n",
    "\n"
   ]
  },
  {
   "cell_type": "markdown",
   "metadata": {
    "id": "VCyFm5S3srCO"
   },
   "source": [
    "## Part 3: Feature Selection [3 Marks]\n",
    "In this part, we aim to investigate the importance of each feature on the final classification accuracy. \n",
    "If we want to try every possible combination of features, we would have to test  $2^F$ different cases,  where F is the number of features, and in each case, we have to do a hyperparameter search (finding K, in KNN using cross-validation). That will take days!. \n",
    "\n",
    "To find more important features we will use a decision tree. based on a decision tree we can compute feature importance that is a metric for our feature selection (code is provided below).\n",
    "\n",
    "You can use [this link](https://machinelearningmastery.com/calculate-feature-importance-with-python/\n",
    ") to get familiar with extracting the feature impotance order of machine learning algorithms in Python.\n",
    "\n",
    "After we identified and removed the least important feature and evaluated a new KNN model on the new set of features, if the stop conditions (see step 7 below) are not met, we need to repeat the process and remove another feature.\n",
    "\n",
    "\n",
    "Design a function ( `Feature_selector`) that accepts your dataset (X_train , y_train) and a threshold as inputs and: **[1]**\n",
    "1. Fits a decision tree classifier on the training set.\n",
    "\n",
    "2. Extracts the feature importance order of the decision tree model.\n",
    "\n",
    "3. Removes the least important feature based on step 2. \n",
    "4. Then, a KNN model is trained on the remaining features. The number of neighbors (`k`) for each KNN model should be tuned using a 5-fold cross-validation.\n",
    "5. Store the best `mean cross-validation` score and the corresponding `k` (number of neighbours) value in two lists.\n",
    "6. Go back to step 3 and follow all the steps until you meet the stop condition (step 7). \n",
    " \n",
    "7. We will stop this process when (1) there is only one feature left, or (2) our cross-validation accuracy is dropped significantly compared to a model that uses all the features. In this function, we accept a threshold as an input argument. For example, if threshold=0.95 we do not continue removing features if our mean cross-validation accuracy after tuning `k` is bellow **0.95 $\\times$ Full Feature cross-validation accuracy**.\n",
    "\n",
    "8. Your function returns the list of removed features, and the corresponding mean cross-validation accuracy and `k` value when a feature was removed.\n",
    "\n",
    "* Visualize your results by plotting the mean cross-validation accuracy (with a tuned `k` on y axis) vs. the on the number of features (x axis). This plot describes: what is the best cv score with 1 feature, 2 features, 3 features ... and all the features. **[0.5]**\n",
    "\n",
    "* Plot the best value of `k` (y-axis) vs. the number of features. This plot explains the trend of number of neighbours with respect to the number of features.  **[0.5]**\n",
    "\n",
    "* State what is the number of essential features for classification and justify your answer. **[1]**\n",
    "  \n",
    "  \n",
    "\n",
    "\n",
    "\n",
    "\n",
    "\n",
    "\n",
    "\n",
    " "
   ]
  },
  {
   "cell_type": "code",
   "execution_count": 12,
   "metadata": {
    "scrolled": true
   },
   "outputs": [
    {
     "data": {
      "text/plain": [
       "[['worst fractal dimension',\n",
       "  'mean perimeter',\n",
       "  'mean area',\n",
       "  'mean smoothness',\n",
       "  'mean compactness',\n",
       "  'mean concave points',\n",
       "  'mean fractal dimension',\n",
       "  'radius error',\n",
       "  'texture error',\n",
       "  'perimeter error',\n",
       "  'symmetry error',\n",
       "  'mean radius',\n",
       "  'worst area',\n",
       "  'worst compactness',\n",
       "  'worst smoothness',\n",
       "  'fractal dimension error',\n",
       "  'worst perimeter',\n",
       "  'smoothness error',\n",
       "  'mean concavity',\n",
       "  'compactness error',\n",
       "  'concave points error',\n",
       "  'worst symmetry',\n",
       "  'concavity error',\n",
       "  'mean texture',\n",
       "  'mean symmetry',\n",
       "  'worst texture',\n",
       "  'worst concavity',\n",
       "  'area error',\n",
       "  'worst radius'],\n",
       " [0.9346518987341772,\n",
       "  0.9346518987341772,\n",
       "  0.9145886075949367,\n",
       "  0.9145886075949367,\n",
       "  0.9145886075949367,\n",
       "  0.9145886075949367,\n",
       "  0.9145886075949367,\n",
       "  0.9145886075949367,\n",
       "  0.9145886075949367,\n",
       "  0.9145886075949367,\n",
       "  0.9145886075949367,\n",
       "  0.9145886075949367,\n",
       "  0.9347468354430379,\n",
       "  0.9347468354430379,\n",
       "  0.9347468354430379,\n",
       "  0.9347468354430379,\n",
       "  0.9046835443037976,\n",
       "  0.9046835443037976,\n",
       "  0.9046835443037976,\n",
       "  0.9046835443037976,\n",
       "  0.9046835443037976,\n",
       "  0.9046835443037976,\n",
       "  0.9046835443037976,\n",
       "  0.9020569620253165,\n",
       "  0.9020569620253165,\n",
       "  0.911993670886076,\n",
       "  0.8993670886075948,\n",
       "  0.9120569620253164,\n",
       "  0.9246202531645569],\n",
       " [10,\n",
       "  11,\n",
       "  34,\n",
       "  34,\n",
       "  34,\n",
       "  34,\n",
       "  34,\n",
       "  34,\n",
       "  34,\n",
       "  34,\n",
       "  34,\n",
       "  34,\n",
       "  20,\n",
       "  20,\n",
       "  20,\n",
       "  20,\n",
       "  12,\n",
       "  12,\n",
       "  12,\n",
       "  12,\n",
       "  12,\n",
       "  12,\n",
       "  12,\n",
       "  5,\n",
       "  5,\n",
       "  3,\n",
       "  3,\n",
       "  38,\n",
       "  34]]"
      ]
     },
     "execution_count": 12,
     "metadata": {},
     "output_type": "execute_result"
    }
   ],
   "source": [
    "def Feature_selector (X_train , y_train , tr=0.95):\n",
    "# step1: use given code to train a decision tree classifier and obtain its feature importance\n",
    "    from sklearn import tree\n",
    "    dt = tree.DecisionTreeClassifier()\n",
    "    dt.fit(X_train,y_train)\n",
    "    importance = dt.feature_importances_\n",
    "\n",
    "# step2: sort the feature importance order in decreasing order(1st:most important)\n",
    "    import_df=pd.DataFrame({'feature':dataset.feature_names,'importance':importance})\n",
    "    import_sort = import_df.sort_values('importance',ascending=False)         #sort importance df\n",
    "\n",
    "# step3: remove the feature(s) with the least value of importance\n",
    "    removed_feature = []\n",
    "    best_accuracy = [1]\n",
    "    relative_k=[]\n",
    "    removed_id = []\n",
    "    \n",
    "###step 6: loop for reducing a feature once a time ###\n",
    "    while best_accuracy[-1]>= tr * max(accuracy) and len(removed_feature)<29:\n",
    "        min_imp_id= import_sort.index[-1] #get index of min importance value\n",
    "        removed_id.append(min_imp_id)\n",
    "        removed_feature.append(import_sort.feature[min_imp_id])#add reduced feature(s) to the list\n",
    "    \n",
    "#step4: train KNN model on the remaining features\n",
    "        acrc=[]\n",
    "        for i in list(range(1,101)):\n",
    "            new_X_train =np.delete(X_train, removed_id, axis = 1) #del feature from x train\n",
    "            knn= neighbors.KNeighborsClassifier(n_neighbors=i) \n",
    "            targets = cross_validate(knn, new_X_train , y_train, cv=5, return_train_score=True)\n",
    "            ave=targets['test_score'].mean()\n",
    "            acrc.append(ave)\n",
    "# Store the best mean cross-validation score and the corresponding k value in two lists\n",
    "        best_accuracy.append(max(acrc))   \n",
    "        relative_k.append(acrc.index(max(acrc))+1)\n",
    "        import_sort=import_sort[0:-1]                      #update importance df containing remaining feature\n",
    "    \n",
    "    return [removed_feature,best_accuracy[1:],relative_k]\n",
    "\n",
    "    \n",
    "fs=Feature_selector (X_train , y_train , tr=0.95)\n",
    "fs\n"
   ]
  },
  {
   "cell_type": "markdown",
   "metadata": {},
   "source": [
    "#Visualize results by plotting the mean cross-validation accuracy (with a tuned k on y axis) vs. the on the number of features (x axis).\n"
   ]
  },
  {
   "cell_type": "code",
   "execution_count": 13,
   "metadata": {},
   "outputs": [
    {
     "data": {
      "image/png": "[encoded data removed]",
      "text/plain": [
       "<Figure size 720x360 with 1 Axes>"
      ]
     },
     "metadata": {},
     "output_type": "display_data"
    }
   ],
   "source": [
    "plt.figure(figsize=(10,5))\n",
    "x=list(range(1,31))\n",
    "y=list(reversed(fs[1]))\n",
    "y.append(max(accuracy))\n",
    "plt.plot(x,y)\n",
    "plt.xlabel('number of features')\n",
    "plt.ylabel('mean cross-validation accuracy')\n",
    "plt.xticks(range(1, 31))\n",
    "plt.grid(True)"
   ]
  },
  {
   "cell_type": "markdown",
   "metadata": {},
   "source": [
    "#Plot the best value of k (y-axis) vs. the number of features."
   ]
  },
  {
   "cell_type": "code",
   "execution_count": 14,
   "metadata": {},
   "outputs": [
    {
     "data": {
      "image/png": "[encoded data removed]",
      "text/plain": [
       "<Figure size 720x360 with 1 Axes>"
      ]
     },
     "metadata": {},
     "output_type": "display_data"
    }
   ],
   "source": [
    "plt.figure(figsize=(10,5))\n",
    "x_value = list(range(1,31))\n",
    "y_value=list(reversed(fs[2]))\n",
    "y_value.append(accuracy.index(max(accuracy))+1)\n",
    "plt.plot(x_value,y_value)\n",
    "plt.xlabel('number of features')\n",
    "plt.ylabel('best value of k')\n",
    "plt.xticks(range(1, 31))\n",
    "plt.grid(True)"
   ]
  },
  {
   "cell_type": "markdown",
   "metadata": {},
   "source": [
    "#State what is the number of essential features for classification and justify your answer. [1]"
   ]
  },
  {
   "cell_type": "code",
   "execution_count": 15,
   "metadata": {},
   "outputs": [],
   "source": [
    "#There are 14 essential features for classification,as the mean cross-validation accuracy based on the 14 features\n",
    "# is quite diserable enough."
   ]
  },
  {
   "cell_type": "code",
   "execution_count": 25,
   "metadata": {},
   "outputs": [
    {
     "name": "stdout",
     "output_type": "stream",
     "text": [
      "The smallest amount of features needed for the highest accuracy we could get:  28\n",
      "The accuracy we could get from 28 essential features:  0.9346518987341772\n",
      "The accuracy we could get from 14 essential features:  0.9347468354430379\n"
     ]
    }
   ],
   "source": [
    "id_max = (y==max(accuracy)).tolist().index(1)+1\n",
    "acc_14 = y[13]\n",
    "\n",
    "print(\"The smallest amount of features needed for the highest accuracy we could get: \",id_max)\n",
    "print(\"The accuracy we could get from 28 essential features: \",max(accuracy))\n",
    "print(\"The accuracy we could get from 14 essential features: \",acc_14)\n",
    "\n",
    "#showing there was no much difference between the accuracy from the 14 essential features and the max accuracy"
   ]
  },
  {
   "cell_type": "markdown",
   "metadata": {
    "id": "GTXjb1sWmDZL"
   },
   "source": [
    "## Part 4: Standardization [1 Marks]\n",
    "\n",
    "Standardizing the data usually means scaling our data to have a mean of zero and a standard deviation of one. \n",
    "\n",
    "**Note:** When we standardize a dataset, do we care if the data points are in our training set or test set? Yes! The training set is available for us to train a model - we can use it however we want. The test set, however, represents a subset of data that is not available for us during training. For example, the test set can represent the data that someone who bought our model would use to see how the model performs (which they are not willing to share with us).\n",
    "Therefore, we cannot compute the mean or standard deviation of the whole dataset to standardize it - we can only calculate the mean and standard deviation of the training set. However, when we sell a model to someone, we can say what our scalers (mean and standard deviation of our training set) was. They can scale their data (test set) with our training set's mean and standard deviation. Of course, there is no guarantee that the test set would have a mean of zero and a standard deviation of one, but it should work fine.\n",
    "\n",
    "**To summarize: We fit the StandardScaler only on the training set. We transform both training and test sets with that scaler.**\n",
    "\n",
    "1. Standardize the training  and test data ([Help](https://scikit-learn.org/stable/modules/preprocessing.html)) \n",
    "\n",
    "2. Call your ``Feature_selector`` function on the standardized training data with a threshold of 95\\%. \n",
    " * Plot the Cross validation accuracy when we have the standardized data (this part) and the original training data (last part) vs. the Number of features in a single plot (to compare them easily).\n",
    "\n",
    "3. Discuss how standardization (helped/hurt) your model and its performance? Discuss which cases lead to a higher cross validation accuracy (how many features? which features? What K?)\n"
   ]
  },
  {
   "cell_type": "code",
   "execution_count": 17,
   "metadata": {
    "id": "xAwAGR6_2bu3"
   },
   "outputs": [
    {
     "data": {
      "text/plain": [
       "[['compactness error',\n",
       "  'mean perimeter',\n",
       "  'mean area',\n",
       "  'mean smoothness',\n",
       "  'mean compactness',\n",
       "  'mean concavity',\n",
       "  'mean fractal dimension',\n",
       "  'radius error',\n",
       "  'texture error',\n",
       "  'perimeter error',\n",
       "  'smoothness error',\n",
       "  'mean texture',\n",
       "  'concavity error',\n",
       "  'mean radius',\n",
       "  'symmetry error',\n",
       "  'worst radius',\n",
       "  'worst smoothness',\n",
       "  'worst compactness',\n",
       "  'concave points error',\n",
       "  'mean concave points',\n",
       "  'worst perimeter',\n",
       "  'worst texture',\n",
       "  'worst fractal dimension',\n",
       "  'mean symmetry',\n",
       "  'fractal dimension error',\n",
       "  'worst concavity',\n",
       "  'worst symmetry',\n",
       "  'area error',\n",
       "  'worst area'],\n",
       " [0.9699683544303797,\n",
       "  0.9674367088607594,\n",
       "  0.9649367088607596,\n",
       "  0.9623734177215189,\n",
       "  0.9649367088607596,\n",
       "  0.9649050632911393,\n",
       "  0.9649367088607596,\n",
       "  0.9674367088607594,\n",
       "  0.9649050632911391,\n",
       "  0.9674367088607594,\n",
       "  0.9724683544303797,\n",
       "  0.9674367088607594,\n",
       "  0.967373417721519,\n",
       "  0.967373417721519,\n",
       "  0.9648417721518987,\n",
       "  0.9648417721518987,\n",
       "  0.9648417721518987,\n",
       "  0.9674367088607594,\n",
       "  0.9699367088607594,\n",
       "  0.9699367088607594,\n",
       "  0.9598734177215189,\n",
       "  0.9548417721518987,\n",
       "  0.9522784810126582,\n",
       "  0.9548101265822785,\n",
       "  0.9573417721518986,\n",
       "  0.9573101265822783,\n",
       "  0.9572784810126581,\n",
       "  0.9496518987341773,\n",
       "  0.9246202531645569],\n",
       " [10,\n",
       "  10,\n",
       "  12,\n",
       "  3,\n",
       "  12,\n",
       "  3,\n",
       "  10,\n",
       "  12,\n",
       "  10,\n",
       "  11,\n",
       "  10,\n",
       "  10,\n",
       "  4,\n",
       "  4,\n",
       "  3,\n",
       "  6,\n",
       "  6,\n",
       "  4,\n",
       "  8,\n",
       "  8,\n",
       "  4,\n",
       "  9,\n",
       "  6,\n",
       "  17,\n",
       "  28,\n",
       "  3,\n",
       "  5,\n",
       "  6,\n",
       "  34]]"
      ]
     },
     "execution_count": 17,
     "metadata": {},
     "output_type": "execute_result"
    }
   ],
   "source": [
    "#step 1: standardize X_train and X_test\n",
    "\n",
    "scaler = preprocessing.StandardScaler().fit(X_train)   #only calculate  mean and sd of the training set\n",
    "X_scaled = scaler.transform(X_train)\n",
    "X_test_scaled = scaler.transform(X_test)   #scale test set with training set's mean and standard deviation\n",
    "\n",
    "# step 2: \n",
    "fs_scaled = Feature_selector (X_scaled , y_train , tr=0.95)\n",
    "fs_scaled"
   ]
  },
  {
   "cell_type": "code",
   "execution_count": 18,
   "metadata": {},
   "outputs": [
    {
     "data": {
      "text/plain": [
       "<matplotlib.legend.Legend at 0x7f8eb804e8b0>"
      ]
     },
     "execution_count": 18,
     "metadata": {},
     "output_type": "execute_result"
    },
    {
     "data": {
      "image/png": "[encoded data removed]",
      "text/plain": [
       "<Figure size 720x504 with 1 Axes>"
      ]
     },
     "metadata": {},
     "output_type": "display_data"
    }
   ],
   "source": [
    "# step 2, graph:\n",
    "\n",
    "# firstly, get the maximum accuracy with full features. Append it to the end of the\n",
    "# accuracies derived from the Feature_selector function.\n",
    "# (since the function only returned then accuracies of reduced models)\n",
    "\n",
    "acc_scaled =[]\n",
    "for i in list(range(1,101)):\n",
    "    knn_i= neighbors.KNeighborsClassifier(n_neighbors=i) \n",
    "    targets = cross_validate(knn_i, X_scaled, y_train, cv=5, return_train_score=True)\n",
    "    ave_scaled=targets['test_score'].mean()\n",
    "    acc_scaled.append(ave_scaled)\n",
    "    \n",
    "# get the plot\n",
    "plt.figure(figsize=(10,7))\n",
    "plt.title(\"Cross validation accuracy vs. Number of features\")\n",
    "y_scaled=list(reversed(fs_scaled[1]))\n",
    "y_scaled.append(max(acc_scaled))\n",
    "plt.plot(x,y_scaled,label=\"scaled data\")\n",
    "plt.plot(x,y,label=\"original data\")\n",
    "plt.xlabel('number of features')\n",
    "plt.ylabel('cross-validation accuracy')\n",
    "plt.xticks(range(1, 31))\n",
    "plt.grid(True)\n",
    "plt.legend()\n"
   ]
  },
  {
   "cell_type": "code",
   "execution_count": 29,
   "metadata": {},
   "outputs": [
    {
     "name": "stdout",
     "output_type": "stream",
     "text": [
      "Here are all cases with highest accuracy= 0.9724683544303797 after Standardization.\n",
      "\n",
      "How many features were removed? 11\n",
      "They are:  ['compactness error', 'mean perimeter', 'mean area', 'mean smoothness', 'mean compactness', 'mean concavity', 'mean fractal dimension', 'radius error', 'texture error', 'perimeter error', 'smoothness error']\n",
      "\n",
      "K is: 10\n",
      "\n",
      "\n"
     ]
    }
   ],
   "source": [
    "# step 3:\n",
    "\n",
    "# Standardization helped the model and its performance. As we can see, the mean cross-validation accuracy of the \n",
    "#scaled training data is higher than that of the unscaled dataset for each amount of features.\n",
    "\n",
    "np.where(y_scaled>y)    #indicated any case could lead to a higher cross validation accuracy\n",
    "\n",
    "#find the info with highest accuracy\n",
    "from more_itertools import locate\n",
    "highest_or_not = list(i == max(y_scaled) for i in fs_scaled[1])\n",
    "ids = list(locate(highest_or_not))\n",
    "\n",
    "print(\"Here are all cases with highest accuracy=\",max(y_scaled),\"after Standardization.\\n\")\n",
    "for i in ids:\n",
    "    print(\"How many features were removed?\",i+1)\n",
    "    print(\"They are: \",fs_scaled[0][0:i+1])\n",
    "    print(\"\\nK is:\",fs_scaled[2][i])\n",
    "    print(\"\\n\")\n"
   ]
  },
  {
   "cell_type": "markdown",
   "metadata": {
    "id": "HdmuHF4kGH5M"
   },
   "source": [
    "## Part 5: Decision Tree Classifier [1.5 Mark]\n",
    "\n",
    "Train a decision tree classifier on the standardized dataset (read the [documentation](https://scikit-learn.org/stable/modules/generated/sklearn.tree.DecisionTreeClassifier.html) and check the example there.) Tune the `max_depth` and `min_samples_split` parameters of the tree using cross-validation (CV).\n",
    " * Compare the decision tree's performance (mean CV score) with KNN, both using all the features. \n"
   ]
  },
  {
   "cell_type": "code",
   "execution_count": 20,
   "metadata": {
    "id": "laYRhTK4Kytl"
   },
   "outputs": [
    {
     "name": "stdout",
     "output_type": "stream",
     "text": [
      "Best parameters: {'max_depth': 5, 'min_samples_split': 8}\n",
      "CV accuracy: 0.9321518987341773\n"
     ]
    }
   ],
   "source": [
    "from sklearn import tree\n",
    "from sklearn.tree import DecisionTreeClassifier\n",
    "from sklearn.model_selection import GridSearchCV\n",
    "\n",
    "dt = tree.DecisionTreeClassifier(random_state = 0)\n",
    "params_dt = {'max_depth': [3,4,5,6,7,8,9,10,11,12,13,14,15], \n",
    "             'min_samples_split': [2,3,4,5,6,7,8,9,10,11,12,13,14,15]}\n",
    "\n",
    "grid_dt = GridSearchCV(estimator=dt, param_grid=params_dt,scoring='accuracy', cv=5,n_jobs=-1)\n",
    "grid_dt.fit(X_scaled, y_train)       #fit 'grid_dt' to the standardized training data\n",
    "print('Best parameters:', grid_dt.best_params_)\n",
    "print('CV accuracy:', grid_dt.best_score_)"
   ]
  },
  {
   "cell_type": "markdown",
   "metadata": {},
   "source": [
    "Comparison: \n",
    "\n",
    "The best CV accuracy of knn is 93.46518987341772%, which is only slightly higher than the best CV score of decision tree, 93.21518987341773% .\n",
    "\n",
    "\n",
    "\n",
    "\n"
   ]
  },
  {
   "cell_type": "markdown",
   "metadata": {
    "id": "k7QjKjHn2TZR"
   },
   "source": [
    "## Part 6: Test Data [0.5 Mark]\n",
    "\n",
    "Now that you've created several models, pick your best one (highest CV accuracy) and apply it to the test dataset you had initially set aside. Discuss your results."
   ]
  },
  {
   "cell_type": "code",
   "execution_count": 21,
   "metadata": {},
   "outputs": [
    {
     "name": "stdout",
     "output_type": "stream",
     "text": [
      "Pick the knn model with the standardized training set, which has an accuracy of 97.24683544303797 %\n"
     ]
    }
   ],
   "source": [
    "print(\"Pick the knn model with the standardized training set, which has an accuracy of\",max(y_scaled)*100,\"%\")"
   ]
  },
  {
   "cell_type": "markdown",
   "metadata": {},
   "source": [
    "Here are some results about accuracy got from several models above, which indicated the knn model with standardized training set and full features would perform better."
   ]
  },
  {
   "cell_type": "code",
   "execution_count": 22,
   "metadata": {
    "id": "acdJ7EijBYqB"
   },
   "outputs": [
    {
     "name": "stdout",
     "output_type": "stream",
     "text": [
      "Test accuracy is: 95.90643274853801 %\n"
     ]
    }
   ],
   "source": [
    "# pick the model trained with standardized training set, full features (pick this model! )\n",
    "from sklearn.metrics import accuracy_score\n",
    "\n",
    "knn_test1= neighbors.KNeighborsClassifier(n_neighbors=10) \n",
    "knn_test1.fit(X_scaled, y_train)\n",
    "acc_final1 = accuracy_score(y_test,knn_test1.predict(X_test_scaled))\n",
    "print('Test accuracy is:',acc_final1*100,'%')\n",
    "                          \n"
   ]
  },
  {
   "cell_type": "code",
   "execution_count": 23,
   "metadata": {},
   "outputs": [
    {
     "name": "stdout",
     "output_type": "stream",
     "text": [
      "Test accuracy is: 95.32163742690058 %\n"
     ]
    }
   ],
   "source": [
    "# non-standardized training set, full features (just for comparison!)\n",
    "from sklearn.metrics import accuracy_score\n",
    "\n",
    "knn_test2= neighbors.KNeighborsClassifier(n_neighbors=10) \n",
    "knn_test2.fit(X_train, y_train)\n",
    "acc_final2 = accuracy_score(y_test,knn_test2.predict(X_test))\n",
    "print('Test accuracy is:',acc_final2*100,'%')"
   ]
  },
  {
   "cell_type": "code",
   "execution_count": 30,
   "metadata": {},
   "outputs": [
    {
     "name": "stdout",
     "output_type": "stream",
     "text": [
      "Test accuracy is: 94.15204678362574 %\n"
     ]
    }
   ],
   "source": [
    "# standardized training set, reduced features  (just for comparison!)\n",
    "from sklearn.neighbors import KNeighborsClassifier\n",
    "test_df = pd.DataFrame(X_test_scaled,columns = dataset.feature_names)\n",
    "test_df = test_df.drop(columns = fs_scaled[0][0:ids[-1]])\n",
    "\n",
    "X_scaled_new = pd.DataFrame(X_scaled,columns = dataset.feature_names)\n",
    "X_scaled_new = X_scaled_new.drop(columns = fs_scaled[0][0:ids[-1]])\n",
    "\n",
    "knn_test3= KNeighborsClassifier(n_neighbors=10) \n",
    "knn_test3.fit(X_scaled_new, y_train)\n",
    "acc_final3 = accuracy_score(y_test,knn_test3.predict(test_df))\n",
    "print('Test accuracy is:',acc_final3*100,'%')\n"
   ]
  },
  {
   "cell_type": "markdown",
   "metadata": {
    "id": "yhCf82AOe3IS"
   },
   "source": [
    "References:\n",
    "\n",
    "https://towardsdatascience.com/decision-trees-in-machine-learning-641b9c4e8052\n",
    "\n",
    "https://www.analyticsvidhya.com/blog/2021/02/machine-learning-101-decision-tree-algorithm-for-classification/"
   ]
  }
 ],
 "metadata": {
  "colab": {
   "collapsed_sections": [],
   "provenance": []
  },
  "kernelspec": {
   "display_name": "Python 3 (ipykernel)",
   "language": "python",
   "name": "python3"
  },
  "language_info": {
   "codemirror_mode": {
    "name": "ipython",
    "version": 3
   },
   "file_extension": ".py",
   "mimetype": "text/x-python",
   "name": "python",
   "nbconvert_exporter": "python",
   "pygments_lexer": "ipython3",
   "version": "3.9.12"
  }
 },
 "nbformat": 4,
 "nbformat_minor": 1
}
